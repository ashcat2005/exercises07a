{
 "cells": [
  {
   "cell_type": "markdown",
   "metadata": {},
   "source": [
    "# Computational Astrophysics\n",
    "## 07. Exercises"
   ]
  },
  {
   "cell_type": "markdown",
   "metadata": {},
   "source": [
    "**Name:** \n",
    "\n",
    "---"
   ]
  },
  {
   "cell_type": "markdown",
   "metadata": {},
   "source": [
    "\n",
    "## 1. Planetary Motion and the Kepler Equation\n",
    "**`Carroll and Ostlie (2017). Chapter 2`**\n",
    "\n",
    "<img src=\"Orbit.png\" width=\"400\"/>\n",
    "\n",
    "A planet is moving around the sun in an elliptic Keplerian orbit with <br>\n",
    "\n",
    "semi-major axis: $a$<br> \n",
    "semi-minor axis: $b$<br>\n",
    "eccentricity: $e =\\sqrt{1 - b^2/a^2}$\n",
    "<br>\n",
    "\n",
    "The planet last perihelion occur at $t=0$.  The angular frequency of the motion is $\\omega = \\frac{2\\pi}{T}$, where $T$ is the period.\n",
    "\n",
    "If we define a 2D coordinate system $(x,y)$ with origin at the center\n",
    "of the ellipse, then the points on the ellipse are described by the\n",
    "equation\n",
    "\n",
    "\\begin{equation}\n",
    "\\frac{x^2}{a^2} + \\frac{y^2}{b^2} = 1\\,\\,.\n",
    "\\end{equation}\n",
    "\n",
    "The location of the planet in the $(x,y)$ coordinate system is given\n",
    "by \n",
    "\n",
    "\\begin{equation}\n",
    "\\begin{aligned}\n",
    "x &= a \\cos E\\,\\,,\\\\\n",
    "y &= b \\sin E\\,\\,,\n",
    "\\end{aligned}\n",
    "\\end{equation}\n",
    "\n",
    "where $E$ is the *eccentric anomaly*, which is defined by\n",
    "\n",
    "\\begin{equation}\n",
    "E = \\omega t + e \\sin E\\,\\,.\n",
    "\\end{equation}\n",
    "\n",
    "\n",
    "This is the interesting equation, because it gives an *implicit*\n",
    "non-linear relationship for E. In order to find $E$ for given values of $\\omega t$ and\n",
    "$e$, we will need to find the solution of the following equation\n",
    "\n",
    "\\begin{equation}\n",
    "E - \\omega t - e \\sin E = 0\\,\\,.\n",
    "\\end{equation}\n",
    "\n",
    "In other words, we have to find this equation's root!"
   ]
  },
  {
   "cell_type": "markdown",
   "metadata": {},
   "source": [
    "1. The motion of Earth in the Solar System has the following parameters:\n",
    "\n",
    "orbital period : $365.25635\\,\\text{days}$ <br>\n",
    "semi-major axis : $a = 1.496\\times 10^8\\,\\mathrm{km} = 1\\,\\mathrm{AU}$<br>\n",
    "eccentricity : $e = 0.0167$\n",
    "<br>\n",
    "\n",
    "Compute $E$, $x$ and $y$ for $t = 91\\,\\text{days}$, $t = 182\\,\\text{days}$, and $t = 273\\,\\text{days}$\n",
    "using your favorite root finding method. The fractional error in $E$ at the end\n",
    "of your computation (from one iteration to the next) should be less than\n",
    "$10^{-10}$. How many iterations does your method need, i.e, how quickly does it\n",
    "converge?\n",
    "\n",
    "2. Now suppose that something (very bad) happened, putting Earth on a pretty eccentric orbit, say $e = 0.99999$. How many iterations does your algorithm need now? Can you think on a method to accelerate convergence?"
   ]
  },
  {
   "cell_type": "markdown",
   "metadata": {},
   "source": [
    "---\n",
    "\n",
    "## 2.  Polynomials with Multiple Roots\n",
    "\n",
    "Find all real roots of\n",
    "\n",
    "\\begin{equation}\n",
    "f(x) = 3x^5 + 5x^4 - x^3\\,\\,.\n",
    "\\end{equation}\n",
    "\n",
    "How many are there and how can you construct an algorithm that finds\n",
    "all of them? This method should be general and should work for real\n",
    "roots of any polynomial in one variable with at least on real\n",
    "root. You may ask the internet for help!\n",
    "\n",
    "Implement your method and be ready to be tested in class to demonstrate its capabilities\n",
    "with a few examples."
   ]
  },
  {
   "cell_type": "markdown",
   "metadata": {},
   "source": [
    "¡¡ Happy Coding !!"
   ]
  }
 ],
 "metadata": {
  "kernelspec": {
   "display_name": "Python 3",
   "language": "python",
   "name": "python3"
  },
  "language_info": {
   "codemirror_mode": {
    "name": "ipython",
    "version": 3
   },
   "file_extension": ".py",
   "mimetype": "text/x-python",
   "name": "python",
   "nbconvert_exporter": "python",
   "pygments_lexer": "ipython3",
   "version": "3.7.4"
  }
 },
 "nbformat": 4,
 "nbformat_minor": 2
}
